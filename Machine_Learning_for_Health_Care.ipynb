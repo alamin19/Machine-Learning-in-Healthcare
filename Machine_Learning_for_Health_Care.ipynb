{
  "nbformat": 4,
  "nbformat_minor": 0,
  "metadata": {
    "colab": {
      "name": "Machine Learning for Health Care.ipynb",
      "provenance": [],
      "authorship_tag": "ABX9TyMx/BeHXko2bK48QnBLTLGG",
      "include_colab_link": true
    },
    "kernelspec": {
      "name": "python3",
      "display_name": "Python 3"
    },
    "language_info": {
      "name": "python"
    }
  },
  "cells": [
    {
      "cell_type": "markdown",
      "metadata": {
        "id": "view-in-github",
        "colab_type": "text"
      },
      "source": [
        "<a href=\"https://colab.research.google.com/github/alamin19/Machine-Learning-in-Healthcare/blob/main/Machine_Learning_for_Health_Care.ipynb\" target=\"_parent\"><img src=\"https://colab.research.google.com/assets/colab-badge.svg\" alt=\"Open In Colab\"/></a>"
      ]
    },
    {
      "cell_type": "code",
      "metadata": {
        "id": "lGCJfOOj62cx"
      },
      "source": [
        "import numpy as np\n",
        "from sklearn import preprocessing\n",
        "from sklearn.model_selection import cross_validate\n",
        "from sklearn.neighbors import KNeighborsClassifier\n",
        "from sklearn.svm import SVC\n",
        "from sklearn import model_selection\n",
        "from sklearn.metrics import classification_report, accuracy_score\n",
        "from pandas.plotting import scatter_matrix\n",
        "import matplotlib.pyplot as plt\n",
        "import pandas as pd\n"
      ],
      "execution_count": 2,
      "outputs": []
    },
    {
      "cell_type": "code",
      "metadata": {
        "id": "U4hXBL9JF9zS"
      },
      "source": [
        "url = \"https://archive.ics.uci.edu/ml/machine-learning-databases/breast-cancer-wisconsin/breast-cancer-wisconsin.data\"\n",
        "names = ['id', 'clump_thickness', 'uniform_cell_size', 'uniform_cell_shape',\n",
        "       'marginal_adhesion', 'single_epithelial_size', 'bare_nuclei',\n",
        "       'bland_chromatin', 'normal_nucleoli', 'mitoses', 'class']\n",
        "df = pd.read_csv(url, names=names)"
      ],
      "execution_count": 3,
      "outputs": []
    },
    {
      "cell_type": "code",
      "metadata": {
        "id": "3TxVMbWLF_uL",
        "outputId": "023916f4-328a-4ec3-c343-beaf5b8acccb",
        "colab": {
          "base_uri": "https://localhost:8080/"
        }
      },
      "source": [
        "df.replace('?', -99999, inplace=True)\n",
        "print(df.axes)\n",
        "df.drop(['id'], 1, inplace=True)"
      ],
      "execution_count": 4,
      "outputs": [
        {
          "output_type": "stream",
          "text": [
            "[RangeIndex(start=0, stop=699, step=1), Index(['id', 'clump_thickness', 'uniform_cell_size', 'uniform_cell_shape',\n",
            "       'marginal_adhesion', 'single_epithelial_size', 'bare_nuclei',\n",
            "       'bland_chromatin', 'normal_nucleoli', 'mitoses', 'class'],\n",
            "      dtype='object')]\n"
          ],
          "name": "stdout"
        }
      ]
    },
    {
      "cell_type": "code",
      "metadata": {
        "id": "qapOjZKFjo7G",
        "outputId": "3271f446-1f29-48e1-b570-a0daff656555",
        "colab": {
          "base_uri": "https://localhost:8080/"
        }
      },
      "source": [
        "print(df.loc[10])\n",
        "print(df.shape)\n"
      ],
      "execution_count": 5,
      "outputs": [
        {
          "output_type": "stream",
          "text": [
            "clump_thickness           1\n",
            "uniform_cell_size         1\n",
            "uniform_cell_shape        1\n",
            "marginal_adhesion         1\n",
            "single_epithelial_size    1\n",
            "bare_nuclei               1\n",
            "bland_chromatin           3\n",
            "normal_nucleoli           1\n",
            "mitoses                   1\n",
            "class                     2\n",
            "Name: 10, dtype: object\n",
            "(699, 10)\n"
          ],
          "name": "stdout"
        }
      ]
    },
    {
      "cell_type": "code",
      "metadata": {
        "id": "imdvqno4kDaW",
        "outputId": "b475b11f-a6a1-4f4d-8e5c-1e164236b6b4",
        "colab": {
          "base_uri": "https://localhost:8080/"
        }
      },
      "source": [
        "print(df.describe())"
      ],
      "execution_count": 6,
      "outputs": [
        {
          "output_type": "stream",
          "text": [
            "       clump_thickness  uniform_cell_size  ...     mitoses       class\n",
            "count       699.000000         699.000000  ...  699.000000  699.000000\n",
            "mean          4.417740           3.134478  ...    1.589413    2.689557\n",
            "std           2.815741           3.051459  ...    1.715078    0.951273\n",
            "min           1.000000           1.000000  ...    1.000000    2.000000\n",
            "25%           2.000000           1.000000  ...    1.000000    2.000000\n",
            "50%           4.000000           1.000000  ...    1.000000    2.000000\n",
            "75%           6.000000           5.000000  ...    1.000000    4.000000\n",
            "max          10.000000          10.000000  ...   10.000000    4.000000\n",
            "\n",
            "[8 rows x 9 columns]\n"
          ],
          "name": "stdout"
        }
      ]
    },
    {
      "cell_type": "code",
      "metadata": {
        "id": "mLSCI-3XVp6b",
        "outputId": "714e5846-1266-4028-b3bd-11d3b247191e",
        "colab": {
          "base_uri": "https://localhost:8080/",
          "height": 607
        }
      },
      "source": [
        "df.hist(figsize= (10, 10))\n",
        "plt.show()"
      ],
      "execution_count": 7,
      "outputs": [
        {
          "output_type": "display_data",
          "data": {
            "image/png": "[encoded data removed]",
            "text/plain": [
              "<Figure size 720x720 with 9 Axes>"
            ]
          },
          "metadata": {
            "tags": [],
            "needs_background": "light"
          }
        }
      ]
    },
    {
      "cell_type": "code",
      "metadata": {
        "id": "v5mFfzc2Wbs-"
      },
      "source": [
        ""
      ],
      "execution_count": null,
      "outputs": []
    }
  ]
}